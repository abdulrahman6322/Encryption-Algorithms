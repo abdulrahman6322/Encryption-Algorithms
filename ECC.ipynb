{
 "cells": [
  {
   "cell_type": "code",
   "execution_count": 2,
   "id": "665aa6fc",
   "metadata": {},
   "outputs": [
    {
     "name": "stdout",
     "output_type": "stream",
     "text": [
      "Generator Point (x, y): (48439561293906451759052585252797914202762949526041747995844080717082404635286, 36134250956749795798585127919587881956611106672985015071877198253568414405109)\n"
     ]
    }
   ],
   "source": [
    "from cryptography.hazmat.backends import default_backend\n",
    "from cryptography.hazmat.primitives.asymmetric import ec\n",
    "\n",
    "# Choose the elliptic curve\n",
    "curve = ec.SECP256R1()\n",
    "generator_point = (0x6b17d1f2e12c4247f8bce6e563a440f277037d812deb33a0f4a13945d898c296,\n",
    "                   0x4fe342e2fe1a7f9b8ee7eb4a7c0f9e162bce33576b315ececbb6406837bf51f5)\n",
    "# Display the resulting generator point\n",
    "print(\"Generator Point (x, y):\", generator_point)"
   ]
  },
  {
   "cell_type": "code",
   "execution_count": 3,
   "id": "1cbc42ed",
   "metadata": {},
   "outputs": [
    {
     "name": "stdout",
     "output_type": "stream",
     "text": [
      "X: 0x3403fd10cc6ea90aec0777d8dc6783a8f849f087cedf926fab76baf7258d43621\n",
      "Y: 0x4d98b79edda0f747cf7122b31fac879e8ffcd23f1efc9cc17aba00c4479a0d71\n",
      "Currently exchange the publickey (e.g. through Internet)\n",
      "A shared key : 0x675e4e2b45d020bd17a466abd14380507210b332fda284582103e57a6c22f35a0\n",
      "(B) shared key : 0x675e4e2b45d020bd17a466abd14380507210b332fda284582103e57a6c22f35a0\n",
      "Equal shared keys: True\n"
     ]
    }
   ],
   "source": [
    "from tinyec import registry\n",
    "import secrets\n",
    "\n",
    "# Function to calculate compress point\n",
    "# of elliptic curves\n",
    "def compress(publicKey):\n",
    "    w=hex(publicKey.x) + hex(publicKey.y % 2)[2:]\n",
    "    return  w\n",
    "\n",
    "# The elliptic curve which is used for the ECDH calculations\n",
    "curve = registry.get_curve('brainpoolP256r1')\n",
    "\n",
    "# Generation of secret key and public key\n",
    "Ka = secrets.randbelow(curve.field.n)\n",
    "X = Ka * curve.g\n",
    "print(\"X:\", compress(X))\n",
    "Kb = secrets.randbelow(curve.field.n)\n",
    "Y = Kb * curve.g\n",
    "print(\"Y:\", compress(Y))\n",
    "print(\"Currently exchange the publickey (e.g. through Internet)\")\n",
    "\n",
    "# (A_SharedKey): represents user A\n",
    "# (B_SharedKey): represents user B\n",
    "A_SharedKey = Ka * Y\n",
    "print(\"A shared key :\",compress(A_SharedKey))\n",
    "B_SharedKey = Kb * X\n",
    "print(\"(B) shared key :\",compress(B_SharedKey))\n",
    "print(\"Equal shared keys:\", A_SharedKey == B_SharedKey)\n"
   ]
  },
  {
   "cell_type": "code",
   "execution_count": 4,
   "id": "983a3415",
   "metadata": {},
   "outputs": [
    {
     "name": "stdout",
     "output_type": "stream",
     "text": [
      "Compression Point: (1, 0)\n"
     ]
    }
   ],
   "source": [
    "def compress_point(curve, point):\n",
    "    # curve is a tuple (a, b) representing the coefficients of the elliptic curve equation\n",
    "    # point is a tuple (x, y) representing the elliptic curve point\n",
    "\n",
    "    # Extract coefficients of the elliptic curve\n",
    "    a, b = curve\n",
    "\n",
    "    # Extract coordinates of the elliptic curve point\n",
    "    x, y = point\n",
    "\n",
    "    # Calculate the compressed y-coordinate (y mod 2)\n",
    "    compressed_y = y % 2\n",
    "\n",
    "    # Return the compression point as a tuple (x, compressed_y)\n",
    "    return (x, compressed_y)\n",
    "\n",
    "# Example usage:\n",
    "curve_coefficients = (1, 2)  # Replace with actual coefficients\n",
    "elliptic_point = (1, 0)      # Replace with actual elliptic curve point\n",
    "compression_point = compress_point(curve_coefficients, elliptic_point)\n",
    "print(\"Compression Point:\", compression_point)"
   ]
  }
 ],
 "metadata": {
  "kernelspec": {
   "display_name": "Python 3 (ipykernel)",
   "language": "python",
   "name": "python3"
  },
  "language_info": {
   "codemirror_mode": {
    "name": "ipython",
    "version": 3
   },
   "file_extension": ".py",
   "mimetype": "text/x-python",
   "name": "python",
   "nbconvert_exporter": "python",
   "pygments_lexer": "ipython3",
   "version": "3.9.18"
  }
 },
 "nbformat": 4,
 "nbformat_minor": 5
}
