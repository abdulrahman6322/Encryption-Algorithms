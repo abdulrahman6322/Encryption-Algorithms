{
 "cells": [
  {
   "cell_type": "code",
   "execution_count": 12,
   "id": "1a45ca01",
   "metadata": {},
   "outputs": [
    {
     "name": "stdout",
     "output_type": "stream",
     "text": [
      "Enter the Message: gijv\n",
      "Enter a Key: ab\n",
      "Encrypted: mppc\n",
      "Decrypted: gijv\n"
     ]
    }
   ],
   "source": [
    "def encrypt_vigenere(plaintext, keyword):\n",
    "    result = \"\"\n",
    "    keyword_repeated = (keyword * (len(plaintext) // len(keyword) + 1))[:len(plaintext)]\n",
    "\n",
    "    for i in range(len(plaintext)):\n",
    "        char = plaintext[i]\n",
    "        if char.isalpha():\n",
    "            is_upper = char.isupper()\n",
    "            # Shift the character by the corresponding keyword letter\n",
    "            shifted_char = chr((ord(char) - ord('A' if is_upper else 'a') + ord(keyword_repeated[i]) - ord('A')) % 26 + ord('A' if is_upper else 'a'))\n",
    "            result += shifted_char\n",
    "        else:\n",
    "            result += char\n",
    "\n",
    "    return result\n",
    "\n",
    "def decrypt_vigenere(ciphertext, keyword):\n",
    "    # Decryption is the same as encryption, but with a negative shift\n",
    "    decrypted_text = encrypt_vigenere(ciphertext, ''.join([chr((26 - ord(k) + ord('A')) % 26 + ord('A')) if k.isalpha() else k for k in keyword]))\n",
    "    return decrypted_text\n",
    "\n",
    "plaintext = input(\"Enter the Message: \")\n",
    "shift_amount = input(\"Enter a Key: \")\n",
    "\n",
    "# Encrypt the plaintext\n",
    "cipher_text = encrypt_vigenere(plaintext, shift_amount)\n",
    "print(f\"Encrypted: {cipher_text}\")\n",
    "\n",
    "# Decrypt the ciphertext\n",
    "decrypted_text = decrypt_vigenere(cipher_text, shift_amount)\n",
    "print(f\"Decrypted: {decrypted_text}\")"
   ]
  }
 ],
 "metadata": {
  "kernelspec": {
   "display_name": "Python 3 (ipykernel)",
   "language": "python",
   "name": "python3"
  },
  "language_info": {
   "codemirror_mode": {
    "name": "ipython",
    "version": 3
   },
   "file_extension": ".py",
   "mimetype": "text/x-python",
   "name": "python",
   "nbconvert_exporter": "python",
   "pygments_lexer": "ipython3",
   "version": "3.9.18"
  }
 },
 "nbformat": 4,
 "nbformat_minor": 5
}
