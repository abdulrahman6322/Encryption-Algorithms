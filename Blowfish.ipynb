{
 "cells": [
  {
   "cell_type": "code",
   "execution_count": 1,
   "id": "44a537e1",
   "metadata": {},
   "outputs": [
    {
     "name": "stdout",
     "output_type": "stream",
     "text": [
      "Enter the plaintext: sasuke\n",
      "Encrypted: 884c7de5922c827f\n",
      "Decrypted: sasuke\n"
     ]
    }
   ],
   "source": [
    "from Crypto.Cipher import Blowfish\n",
    "from Crypto.Random import get_random_bytes\n",
    "from Crypto.Util.Padding import pad, unpad\n",
    "\n",
    "def generate_key():\n",
    "    return get_random_bytes(16)\n",
    "\n",
    "def encrypt_blowfish(plaintext, key):\n",
    "    cipher = Blowfish.new(key, Blowfish.MODE_ECB)\n",
    "    padded_plaintext = pad(plaintext.encode('utf-8'), Blowfish.block_size)\n",
    "    ciphertext = cipher.encrypt(padded_plaintext)\n",
    "    return ciphertext\n",
    "\n",
    "def decrypt_blowfish(ciphertext, key):\n",
    "    cipher = Blowfish.new(key, Blowfish.MODE_ECB)\n",
    "    decrypted_data = cipher.decrypt(ciphertext)\n",
    "    plaintext = unpad(decrypted_data, Blowfish.block_size)\n",
    "    return plaintext.decode('utf-8')\n",
    "\n",
    "# Get user input\n",
    "plaintext = input(\"Enter the plaintext: \")\n",
    "key = generate_key()\n",
    "\n",
    "# Encrypt the plaintext\n",
    "cipher_text = encrypt_blowfish(plaintext, key)\n",
    "print(f\"Encrypted: {cipher_text.hex()}\")\n",
    "\n",
    "# Decrypt the ciphertext\n",
    "decrypted_text = decrypt_blowfish(cipher_text, key)\n",
    "print(f\"Decrypted: {decrypted_text}\")\n"
   ]
  },
  {
   "cell_type": "code",
   "execution_count": null,
   "id": "6dc8437f",
   "metadata": {},
   "outputs": [],
   "source": []
  }
 ],
 "metadata": {
  "kernelspec": {
   "display_name": "Python 3 (ipykernel)",
   "language": "python",
   "name": "python3"
  },
  "language_info": {
   "codemirror_mode": {
    "name": "ipython",
    "version": 3
   },
   "file_extension": ".py",
   "mimetype": "text/x-python",
   "name": "python",
   "nbconvert_exporter": "python",
   "pygments_lexer": "ipython3",
   "version": "3.9.18"
  }
 },
 "nbformat": 4,
 "nbformat_minor": 5
}
