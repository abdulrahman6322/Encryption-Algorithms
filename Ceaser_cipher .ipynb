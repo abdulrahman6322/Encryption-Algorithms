{
 "cells": [
  {
   "cell_type": "code",
   "execution_count": 3,
   "id": "589918df",
   "metadata": {},
   "outputs": [
    {
     "name": "stdout",
     "output_type": "stream",
     "text": [
      "Enter the Message: abdo\n",
      "Enter a Key: 3\n",
      "Encrypted: degr\n",
      "Decrypted: abdo\n"
     ]
    }
   ],
   "source": [
    "def encrypt(text, shift):\n",
    "    result = \"\"\n",
    "    \n",
    "    for char in text:\n",
    "        if char.isalpha():\n",
    "           \n",
    "            is_upper = char.isupper()\n",
    "            \n",
    "            # Shift the character by the specified amount\n",
    "            shifted_char = chr((ord(char) - ord('A' if is_upper else 'a') + shift) % 26 + ord('A' if is_upper else 'a'))\n",
    "            \n",
    "            result += shifted_char\n",
    "        else:\n",
    "            # If the character is not a letter, leave it unchanged\n",
    "            result += char\n",
    "    \n",
    "    return result\n",
    "\n",
    "\n",
    "def decrypt(ciphertext, shift):\n",
    "    return encrypt(ciphertext, -shift)\n",
    "\n",
    "plaintext = input(\"Enter the Message: \")\n",
    "shift_amount = int(input(\"Enter a Key: \"))\n",
    "\n",
    "# Encrypt the plaintext\n",
    "cipher_text = encrypt(plaintext, shift_amount)\n",
    "print(f\"Encrypted: {cipher_text}\")\n",
    "\n",
    "# Decrypt the ciphertext\n",
    "decrypted_text = decrypt(cipher_text, shift_amount)\n",
    "print(f\"Decrypted: {decrypted_text}\")"
   ]
  },
  {
   "cell_type": "code",
   "execution_count": null,
   "id": "72b34a4e",
   "metadata": {},
   "outputs": [],
   "source": []
  }
 ],
 "metadata": {
  "kernelspec": {
   "display_name": "Python 3 (ipykernel)",
   "language": "python",
   "name": "python3"
  },
  "language_info": {
   "codemirror_mode": {
    "name": "ipython",
    "version": 3
   },
   "file_extension": ".py",
   "mimetype": "text/x-python",
   "name": "python",
   "nbconvert_exporter": "python",
   "pygments_lexer": "ipython3",
   "version": "3.9.18"
  }
 },
 "nbformat": 4,
 "nbformat_minor": 5
}
